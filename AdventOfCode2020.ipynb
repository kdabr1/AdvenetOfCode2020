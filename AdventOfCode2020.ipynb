{
 "cells": [
  {
   "cell_type": "markdown",
   "metadata": {},
   "source": [
    "# --- Day 1: Report Repair ---\n",
    "## Key words: Math calculation, reverse calculation\n",
    "After saving Christmas five years in a row, you've decided to take a vacation at a nice resort on a tropical island. Surely, Christmas will go on without you.\n",
    "\n",
    "The tropical island has its own currency and is entirely cash-only. The gold coins used there have a little picture of a starfish; the locals just call them stars. None of the currency exchanges seem to have heard of them, but somehow, you'll need to find fifty of these coins by the time you arrive so you can pay the deposit on your room.\n",
    "\n",
    "To save your vacation, you need to get all fifty stars by December 25th.\n",
    "\n",
    "Collect stars by solving puzzles. Two puzzles will be made available on each day in the Advent calendar; the second puzzle is unlocked when you complete the first. Each puzzle grants one star. Good luck!\n",
    "\n",
    "Before you leave, the Elves in accounting just need you to fix your expense report (your puzzle input); apparently, something isn't quite adding up.\n",
    "\n",
    "Specifically, they need you to find the two entries that sum to 2020 and then multiply those two numbers together.\n",
    "\n",
    "For example, suppose your expense report contained the following:\n",
    "\n",
    "1721<br>\n",
    "979<br>\n",
    "366<br>\n",
    "299<br>\n",
    "675<br>\n",
    "1456<br>\n",
    "In this list, the two entries that sum to 2020 are 1721 and 299. Multiplying them together produces 1721 * 299 = 514579, so the correct answer is 514579.\n",
    "\n",
    "Of course, your expense report is much larger. Find the two entries that sum to 2020; what do you get if you multiply them together?\n",
    "\n",
    "Your puzzle answer was 838624."
   ]
  },
  {
   "cell_type": "code",
   "execution_count": 174,
   "metadata": {},
   "outputs": [],
   "source": [
    "import pandas as pd"
   ]
  },
  {
   "cell_type": "code",
   "execution_count": 181,
   "metadata": {},
   "outputs": [
    {
     "data": {
      "text/html": [
       "<div>\n",
       "<style scoped>\n",
       "    .dataframe tbody tr th:only-of-type {\n",
       "        vertical-align: middle;\n",
       "    }\n",
       "\n",
       "    .dataframe tbody tr th {\n",
       "        vertical-align: top;\n",
       "    }\n",
       "\n",
       "    .dataframe thead th {\n",
       "        text-align: right;\n",
       "    }\n",
       "</style>\n",
       "<table border=\"1\" class=\"dataframe\">\n",
       "  <thead>\n",
       "    <tr style=\"text-align: right;\">\n",
       "      <th></th>\n",
       "      <th>0</th>\n",
       "    </tr>\n",
       "  </thead>\n",
       "  <tbody>\n",
       "    <tr>\n",
       "      <th>0</th>\n",
       "      <td>2008</td>\n",
       "    </tr>\n",
       "    <tr>\n",
       "      <th>1</th>\n",
       "      <td>1529</td>\n",
       "    </tr>\n",
       "    <tr>\n",
       "      <th>2</th>\n",
       "      <td>1594</td>\n",
       "    </tr>\n",
       "    <tr>\n",
       "      <th>3</th>\n",
       "      <td>1422</td>\n",
       "    </tr>\n",
       "    <tr>\n",
       "      <th>4</th>\n",
       "      <td>1518</td>\n",
       "    </tr>\n",
       "  </tbody>\n",
       "</table>\n",
       "</div>"
      ],
      "text/plain": [
       "      0\n",
       "0  2008\n",
       "1  1529\n",
       "2  1594\n",
       "3  1422\n",
       "4  1518"
      ]
     },
     "execution_count": 181,
     "metadata": {},
     "output_type": "execute_result"
    }
   ],
   "source": [
    "df1 = pd.read_excel('1.xlsx', header=None)\n",
    "df1.head()"
   ]
  },
  {
   "cell_type": "code",
   "execution_count": 176,
   "metadata": {},
   "outputs": [],
   "source": [
    "list = df1[0].tolist()"
   ]
  },
  {
   "cell_type": "code",
   "execution_count": 177,
   "metadata": {},
   "outputs": [
    {
     "name": "stdout",
     "output_type": "stream",
     "text": [
      "Answer: 838624\n"
     ]
    }
   ],
   "source": [
    "for a in range(len(list)):\n",
    "    for b in range(len(list) - a - 1):\n",
    "        if list[a] + list[b + a + 1] == 2020:\n",
    "            print (\"Answer: \" +str(list[a] * list[b + a + 1]))                          "
   ]
  },
  {
   "cell_type": "markdown",
   "metadata": {},
   "source": [
    "____\n",
    "# --- Part Two ---\n",
    "The Elves in accounting are thankful for your help; one of them even offers you a starfish coin they had left over from a past vacation. They offer you a second one if you can find three numbers in your expense report that meet the same criteria.\n",
    "\n",
    "Using the above example again, the three entries that sum to 2020 are 979, 366, and 675. Multiplying them together produces the answer, 241861950.\n",
    "\n",
    "In your expense report, what is the product of the three entries that sum to 2020?\n",
    "\n",
    "Your puzzle answer was 52764180.\n",
    "\n",
    "Both parts of this puzzle are complete! They provide two gold stars: **"
   ]
  },
  {
   "cell_type": "code",
   "execution_count": 178,
   "metadata": {},
   "outputs": [
    {
     "name": "stdout",
     "output_type": "stream",
     "text": [
      "Answer: 52764180\n"
     ]
    }
   ],
   "source": [
    "for a in range(len(list)):\n",
    "    for b in range(len(list) - a - 1):\n",
    "        for c in range(len(list) - a - b - 2):\n",
    "            if list[a] + list[b + a + 1] + list[a + b + c + 2] == 2020:\n",
    "                print ('Answer: ' + str(list[a] * list[b + a + 1] * list[a + b + c + 2]))                 "
   ]
  },
  {
   "cell_type": "markdown",
   "metadata": {},
   "source": [
    "# --- Day 2: Password Philosophy ---\n",
    "## Key words: Text analysis, text validation\n",
    "Your flight departs in a few days from the coastal airport; the easiest way down to the coast from here is via toboggan.\n",
    "\n",
    "The shopkeeper at the North Pole Toboggan Rental Shop is having a bad day. \"Something's wrong with our computers; we can't log in!\" You ask if you can take a look.\n",
    "\n",
    "Their password database seems to be a little corrupted: some of the passwords wouldn't have been allowed by the Official Toboggan Corporate Policy that was in effect when they were chosen.\n",
    "\n",
    "To try to debug the problem, they have created a list (your puzzle input) of passwords (according to the corrupted database) and the corporate policy when that password was set.\n",
    "\n",
    "For example, suppose you have the following list:\n",
    "\n",
    "1-3 a: <br>\n",
    "1-3 b: cdefg <br>\n",
    "2-9 c: ccccccccc <br>\n",
    "Each line gives the password policy and then the password. The password policy indicates the lowest and highest number of times a given letter must appear for the password to be valid. For example, 1-3 a means that the password must contain a at least 1 time and at most 3 times.\n",
    "\n",
    "In the above example, 2 passwords are valid. The middle password, cdefg, is not; it contains no instances of b, but needs at least 1. The first and third passwords are valid: they contain one a or nine c, both within the limits of their respective policies.\n",
    "\n",
    "How many passwords are valid according to their policies?\n",
    "\n",
    "Your puzzle answer was 548."
   ]
  },
  {
   "cell_type": "code",
   "execution_count": null,
   "metadata": {},
   "outputs": [],
   "source": [
    "import pandas as pd"
   ]
  },
  {
   "cell_type": "code",
   "execution_count": 200,
   "metadata": {},
   "outputs": [],
   "source": [
    "df2 = pd.read_excel('2.xlsx', names = ['Input'])"
   ]
  },
  {
   "cell_type": "code",
   "execution_count": 190,
   "metadata": {},
   "outputs": [
    {
     "data": {
      "text/html": [
       "<div>\n",
       "<style scoped>\n",
       "    .dataframe tbody tr th:only-of-type {\n",
       "        vertical-align: middle;\n",
       "    }\n",
       "\n",
       "    .dataframe tbody tr th {\n",
       "        vertical-align: top;\n",
       "    }\n",
       "\n",
       "    .dataframe thead th {\n",
       "        text-align: right;\n",
       "    }\n",
       "</style>\n",
       "<table border=\"1\" class=\"dataframe\">\n",
       "  <thead>\n",
       "    <tr style=\"text-align: right;\">\n",
       "      <th></th>\n",
       "      <th>Input</th>\n",
       "    </tr>\n",
       "  </thead>\n",
       "  <tbody>\n",
       "    <tr>\n",
       "      <th>0</th>\n",
       "      <td>1-14 b: bbbbbbbbbbbbbbbbbbb</td>\n",
       "    </tr>\n",
       "    <tr>\n",
       "      <th>1</th>\n",
       "      <td>3-14 v: vvpvvvmvvvvvvvv</td>\n",
       "    </tr>\n",
       "    <tr>\n",
       "      <th>2</th>\n",
       "      <td>2-5 m: mfvxmmm</td>\n",
       "    </tr>\n",
       "    <tr>\n",
       "      <th>3</th>\n",
       "      <td>15-20 z: zdzzzrjzzzdpzzdzzzzz</td>\n",
       "    </tr>\n",
       "    <tr>\n",
       "      <th>4</th>\n",
       "      <td>6-8 g: tggjggggrg</td>\n",
       "    </tr>\n",
       "  </tbody>\n",
       "</table>\n",
       "</div>"
      ],
      "text/plain": [
       "                           Input\n",
       "0    1-14 b: bbbbbbbbbbbbbbbbbbb\n",
       "1        3-14 v: vvpvvvmvvvvvvvv\n",
       "2                 2-5 m: mfvxmmm\n",
       "3  15-20 z: zdzzzrjzzzdpzzdzzzzz\n",
       "4              6-8 g: tggjggggrg"
      ]
     },
     "execution_count": 190,
     "metadata": {},
     "output_type": "execute_result"
    }
   ],
   "source": [
    "df2.head()"
   ]
  },
  {
   "cell_type": "code",
   "execution_count": 201,
   "metadata": {},
   "outputs": [],
   "source": [
    "df2[['From', 'Pass']] = df2['Input'].str.split('-', expand = True)\n",
    "df2[['To', 'Pass']] = df2['Pass'].str.split(n = 1, expand = True)\n",
    "df2[['Letter', 'Pass']] = df2['Pass'].str.split(':', n = 1, expand = True)\n",
    "df2.drop('Input', axis =1, inplace = True)\n",
    "df2 = df2[['From', 'To', 'Letter', 'Pass']]"
   ]
  },
  {
   "cell_type": "code",
   "execution_count": 202,
   "metadata": {},
   "outputs": [
    {
     "data": {
      "text/html": [
       "<div>\n",
       "<style scoped>\n",
       "    .dataframe tbody tr th:only-of-type {\n",
       "        vertical-align: middle;\n",
       "    }\n",
       "\n",
       "    .dataframe tbody tr th {\n",
       "        vertical-align: top;\n",
       "    }\n",
       "\n",
       "    .dataframe thead th {\n",
       "        text-align: right;\n",
       "    }\n",
       "</style>\n",
       "<table border=\"1\" class=\"dataframe\">\n",
       "  <thead>\n",
       "    <tr style=\"text-align: right;\">\n",
       "      <th></th>\n",
       "      <th>From</th>\n",
       "      <th>To</th>\n",
       "      <th>Letter</th>\n",
       "      <th>Pass</th>\n",
       "    </tr>\n",
       "  </thead>\n",
       "  <tbody>\n",
       "    <tr>\n",
       "      <th>0</th>\n",
       "      <td>1</td>\n",
       "      <td>14</td>\n",
       "      <td>b</td>\n",
       "      <td>bbbbbbbbbbbbbbbbbbb</td>\n",
       "    </tr>\n",
       "    <tr>\n",
       "      <th>1</th>\n",
       "      <td>3</td>\n",
       "      <td>14</td>\n",
       "      <td>v</td>\n",
       "      <td>vvpvvvmvvvvvvvv</td>\n",
       "    </tr>\n",
       "    <tr>\n",
       "      <th>2</th>\n",
       "      <td>2</td>\n",
       "      <td>5</td>\n",
       "      <td>m</td>\n",
       "      <td>mfvxmmm</td>\n",
       "    </tr>\n",
       "    <tr>\n",
       "      <th>3</th>\n",
       "      <td>15</td>\n",
       "      <td>20</td>\n",
       "      <td>z</td>\n",
       "      <td>zdzzzrjzzzdpzzdzzzzz</td>\n",
       "    </tr>\n",
       "    <tr>\n",
       "      <th>4</th>\n",
       "      <td>6</td>\n",
       "      <td>8</td>\n",
       "      <td>g</td>\n",
       "      <td>tggjggggrg</td>\n",
       "    </tr>\n",
       "  </tbody>\n",
       "</table>\n",
       "</div>"
      ],
      "text/plain": [
       "  From  To Letter                   Pass\n",
       "0    1  14      b    bbbbbbbbbbbbbbbbbbb\n",
       "1    3  14      v        vvpvvvmvvvvvvvv\n",
       "2    2   5      m                mfvxmmm\n",
       "3   15  20      z   zdzzzrjzzzdpzzdzzzzz\n",
       "4    6   8      g             tggjggggrg"
      ]
     },
     "execution_count": 202,
     "metadata": {},
     "output_type": "execute_result"
    }
   ],
   "source": [
    "df2.head()"
   ]
  },
  {
   "cell_type": "code",
   "execution_count": 203,
   "metadata": {},
   "outputs": [],
   "source": [
    "df2['To'] = pd.to_numeric(df2['To'])\n",
    "df2['From'] = pd.to_numeric(df2['From'])"
   ]
  },
  {
   "cell_type": "code",
   "execution_count": 206,
   "metadata": {},
   "outputs": [],
   "source": [
    "df2['Count'] = df2.apply(lambda x: x['Pass'].count(x['Letter']), axis = 1)"
   ]
  },
  {
   "cell_type": "code",
   "execution_count": 207,
   "metadata": {},
   "outputs": [],
   "source": [
    "df2['Correct'] = df2.apply(lambda x: True if x['To'] >= x['Count'] >= x['From'] else False, axis = 1)"
   ]
  },
  {
   "cell_type": "code",
   "execution_count": 209,
   "metadata": {},
   "outputs": [
    {
     "data": {
      "text/html": [
       "<div>\n",
       "<style scoped>\n",
       "    .dataframe tbody tr th:only-of-type {\n",
       "        vertical-align: middle;\n",
       "    }\n",
       "\n",
       "    .dataframe tbody tr th {\n",
       "        vertical-align: top;\n",
       "    }\n",
       "\n",
       "    .dataframe thead th {\n",
       "        text-align: right;\n",
       "    }\n",
       "</style>\n",
       "<table border=\"1\" class=\"dataframe\">\n",
       "  <thead>\n",
       "    <tr style=\"text-align: right;\">\n",
       "      <th></th>\n",
       "      <th>From</th>\n",
       "      <th>To</th>\n",
       "      <th>Letter</th>\n",
       "      <th>Pass</th>\n",
       "      <th>Count</th>\n",
       "      <th>Correct</th>\n",
       "    </tr>\n",
       "  </thead>\n",
       "  <tbody>\n",
       "    <tr>\n",
       "      <th>0</th>\n",
       "      <td>1</td>\n",
       "      <td>14</td>\n",
       "      <td>b</td>\n",
       "      <td>bbbbbbbbbbbbbbbbbbb</td>\n",
       "      <td>19</td>\n",
       "      <td>False</td>\n",
       "    </tr>\n",
       "    <tr>\n",
       "      <th>1</th>\n",
       "      <td>3</td>\n",
       "      <td>14</td>\n",
       "      <td>v</td>\n",
       "      <td>vvpvvvmvvvvvvvv</td>\n",
       "      <td>13</td>\n",
       "      <td>True</td>\n",
       "    </tr>\n",
       "    <tr>\n",
       "      <th>2</th>\n",
       "      <td>2</td>\n",
       "      <td>5</td>\n",
       "      <td>m</td>\n",
       "      <td>mfvxmmm</td>\n",
       "      <td>4</td>\n",
       "      <td>True</td>\n",
       "    </tr>\n",
       "    <tr>\n",
       "      <th>3</th>\n",
       "      <td>15</td>\n",
       "      <td>20</td>\n",
       "      <td>z</td>\n",
       "      <td>zdzzzrjzzzdpzzdzzzzz</td>\n",
       "      <td>14</td>\n",
       "      <td>False</td>\n",
       "    </tr>\n",
       "    <tr>\n",
       "      <th>4</th>\n",
       "      <td>6</td>\n",
       "      <td>8</td>\n",
       "      <td>g</td>\n",
       "      <td>tggjggggrg</td>\n",
       "      <td>7</td>\n",
       "      <td>True</td>\n",
       "    </tr>\n",
       "  </tbody>\n",
       "</table>\n",
       "</div>"
      ],
      "text/plain": [
       "   From  To Letter                   Pass  Count  Correct\n",
       "0     1  14      b    bbbbbbbbbbbbbbbbbbb     19    False\n",
       "1     3  14      v        vvpvvvmvvvvvvvv     13     True\n",
       "2     2   5      m                mfvxmmm      4     True\n",
       "3    15  20      z   zdzzzrjzzzdpzzdzzzzz     14    False\n",
       "4     6   8      g             tggjggggrg      7     True"
      ]
     },
     "execution_count": 209,
     "metadata": {},
     "output_type": "execute_result"
    }
   ],
   "source": [
    "df2.head()"
   ]
  },
  {
   "cell_type": "code",
   "execution_count": 213,
   "metadata": {},
   "outputs": [
    {
     "name": "stdout",
     "output_type": "stream",
     "text": [
      "Answer: 548\n"
     ]
    }
   ],
   "source": [
    "print('Answer: ' + str(df2['Correct'].sum()))"
   ]
  },
  {
   "cell_type": "markdown",
   "metadata": {},
   "source": [
    "____\n",
    "# --- Part Two ---\n",
    "While it appears you validated the passwords correctly, they don't seem to be what the Official Toboggan Corporate Authentication System is expecting.\n",
    "\n",
    "The shopkeeper suddenly realizes that he just accidentally explained the password policy rules from his old job at the sled rental place down the street! The Official Toboggan Corporate Policy actually works a little differently.\n",
    "\n",
    "Each policy actually describes two positions in the password, where 1 means the first character, 2 means the second character, and so on. (Be careful; Toboggan Corporate Policies have no concept of \"index zero\"!) Exactly one of these positions must contain the given letter. Other occurrences of the letter are irrelevant for the purposes of policy enforcement.\n",
    "\n",
    "Given the same example list from above:\n",
    "\n",
    "1-3 a: abcde is valid: position 1 contains a and position 3 does not.<br>\n",
    "1-3 b: cdefg is invalid: neither position 1 nor position 3 contains b.<br>\n",
    "2-9 c: ccccccccc is invalid: both position 2 and position 9 contain c.<br>\n",
    "How many passwords are valid according to the new interpretation of the policies?<br>\n",
    "\n",
    "Your puzzle answer was 502.\n",
    "\n",
    "Both parts of this puzzle are complete! They provide two gold stars: **"
   ]
  },
  {
   "cell_type": "code",
   "execution_count": 217,
   "metadata": {},
   "outputs": [],
   "source": [
    "df2['Correct_2'] = df2.apply(lambda x: \n",
    "        False if x['Pass'][x['From']] == x['Letter'] and x['Pass'][x['To']] == x['Letter'] else\n",
    "        (True if x['Pass'][x['From']] == x['Letter'] or x['Pass'][x['To']] == x['Letter'] else False), \n",
    "        axis = 1)"
   ]
  },
  {
   "cell_type": "code",
   "execution_count": 220,
   "metadata": {},
   "outputs": [
    {
     "name": "stdout",
     "output_type": "stream",
     "text": [
      "Answer: 502\n"
     ]
    }
   ],
   "source": [
    "print('Answer: ' + str(df2['Correct_2'].sum()))"
   ]
  },
  {
   "cell_type": "markdown",
   "metadata": {},
   "source": [
    "____"
   ]
  },
  {
   "cell_type": "markdown",
   "metadata": {},
   "source": [
    "# --- Day 4: Passport Processing ---\n",
    "## Key words: Unstructured data, data validation, regex validation\n",
    "You arrive at the airport only to realize that you grabbed your North Pole Credentials instead of your passport. While these documents are extremely similar, North Pole Credentials aren't issued by a country and therefore aren't actually valid documentation for travel in most of the world.\n",
    "\n",
    "It seems like you're not the only one having problems, though; a very long line has formed for the automatic passport scanners, and the delay could upset your travel itinerary.\n",
    "\n",
    "Due to some questionable network security, you realize you might be able to solve both of these problems at the same time.\n",
    "\n",
    "The automatic passport scanners are slow because they're having trouble detecting which passports have all required fields. The expected fields are as follows:\n",
    "\n",
    "byr (Birth Year) <br>\n",
    "iyr (Issue Year)<br>\n",
    "eyr (Expiration Year)<br>\n",
    "hgt (Height)<br>\n",
    "hcl (Hair Color)<br>\n",
    "ecl (Eye Color)<br>\n",
    "pid (Passport ID)<br>\n",
    "cid (Country ID)<br>\n",
    "Passport data is validated in batch files (your puzzle input). Each passport is represented as a sequence of key:value pairs separated by spaces or newlines. Passports are separated by blank lines.\n",
    "\n",
    "Here is an example batch file containing four passports:\n",
    "\n",
    "ecl:gry pid:860033327 eyr:2020 hcl:#fffffd<br>\n",
    "byr:1937 iyr:2017 cid:147 hgt:183cm<br>\n",
    "\n",
    "iyr:2013 ecl:amb cid:350 eyr:2023 pid:028048884<br>\n",
    "hcl:#cfa07d byr:1929\n",
    "\n",
    "hcl:#ae17e1 iyr:2013<br>\n",
    "eyr:2024<br>\n",
    "ecl:brn pid:760753108 byr:1931<br>\n",
    "hgt:179cm<br>\n",
    "\n",
    "hcl:#cfa07d eyr:2025 pid:166559648<br>\n",
    "iyr:2011 ecl:brn hgt:59in<br><br>\n",
    "The first passport is valid - all eight fields are present. The second passport is invalid - it is missing hgt (the Height field).\n",
    "\n",
    "The third passport is interesting; the only missing field is cid, so it looks like data from North Pole Credentials, not a passport at all! Surely, nobody would mind if you made the system temporarily ignore missing cid fields. Treat this \"passport\" as valid.\n",
    "\n",
    "The fourth passport is missing two fields, cid and byr. Missing cid is fine, but missing any other field is not, so this passport is invalid.\n",
    "\n",
    "According to the above rules, your improved system would report 2 valid passports.\n",
    "\n",
    "Count the number of valid passports - those that have all required fields. Treat cid as optional. In your batch file, how many passports are valid?\n",
    "\n",
    "Your puzzle answer was 254."
   ]
  },
  {
   "cell_type": "code",
   "execution_count": 231,
   "metadata": {},
   "outputs": [],
   "source": [
    "df4 = pd.read_excel('4.xlsx', skip_blank_lines = False, names = ['Input'])"
   ]
  },
  {
   "cell_type": "code",
   "execution_count": 232,
   "metadata": {},
   "outputs": [
    {
     "data": {
      "text/html": [
       "<div>\n",
       "<style scoped>\n",
       "    .dataframe tbody tr th:only-of-type {\n",
       "        vertical-align: middle;\n",
       "    }\n",
       "\n",
       "    .dataframe tbody tr th {\n",
       "        vertical-align: top;\n",
       "    }\n",
       "\n",
       "    .dataframe thead th {\n",
       "        text-align: right;\n",
       "    }\n",
       "</style>\n",
       "<table border=\"1\" class=\"dataframe\">\n",
       "  <thead>\n",
       "    <tr style=\"text-align: right;\">\n",
       "      <th></th>\n",
       "      <th>Input</th>\n",
       "    </tr>\n",
       "  </thead>\n",
       "  <tbody>\n",
       "    <tr>\n",
       "      <th>0</th>\n",
       "      <td>iyr:2010 ecl:gry hgt:181cm</td>\n",
       "    </tr>\n",
       "    <tr>\n",
       "      <th>1</th>\n",
       "      <td>pid:591597745 byr:1920 hcl:#6b5442 eyr:2029 ci...</td>\n",
       "    </tr>\n",
       "    <tr>\n",
       "      <th>2</th>\n",
       "      <td>NaN</td>\n",
       "    </tr>\n",
       "    <tr>\n",
       "      <th>3</th>\n",
       "      <td>cid:223 byr:1927</td>\n",
       "    </tr>\n",
       "    <tr>\n",
       "      <th>4</th>\n",
       "      <td>hgt:177cm hcl:#602927 iyr:2016 pid:404183620</td>\n",
       "    </tr>\n",
       "  </tbody>\n",
       "</table>\n",
       "</div>"
      ],
      "text/plain": [
       "                                               Input\n",
       "0                         iyr:2010 ecl:gry hgt:181cm\n",
       "1  pid:591597745 byr:1920 hcl:#6b5442 eyr:2029 ci...\n",
       "2                                                NaN\n",
       "3                                   cid:223 byr:1927\n",
       "4       hgt:177cm hcl:#602927 iyr:2016 pid:404183620"
      ]
     },
     "execution_count": 232,
     "metadata": {},
     "output_type": "execute_result"
    }
   ],
   "source": [
    "df4.head()"
   ]
  },
  {
   "cell_type": "code",
   "execution_count": 233,
   "metadata": {},
   "outputs": [],
   "source": [
    "df4['Pass'] = ''"
   ]
  },
  {
   "cell_type": "code",
   "execution_count": 234,
   "metadata": {},
   "outputs": [],
   "source": [
    "a=1\n",
    "for i in range(len(df4['Input'])):\n",
    "    if df4['Input'][i] != df4['Input'][i]:\n",
    "        a = a + 1\n",
    "    df4['Pass'][i] = a\n",
    "        "
   ]
  },
  {
   "cell_type": "code",
   "execution_count": 235,
   "metadata": {},
   "outputs": [],
   "source": [
    "df4_2 = df4.set_index('Pass')['Input'].str.split().apply(pd.Series).stack().reset_index()\n",
    "df4_2.drop(labels = 'level_1', axis = 1, inplace = True)\n",
    "df4_2.columns = ['Pass', 'Data']\n",
    "df4_2[['Metric', 'Value']] = df4_2['Data'].str.split(':', expand = True)\n",
    "df4_2.drop(['Data'], axis = 1, inplace = True)"
   ]
  },
  {
   "cell_type": "code",
   "execution_count": 237,
   "metadata": {},
   "outputs": [
    {
     "data": {
      "text/html": [
       "<div>\n",
       "<style scoped>\n",
       "    .dataframe tbody tr th:only-of-type {\n",
       "        vertical-align: middle;\n",
       "    }\n",
       "\n",
       "    .dataframe tbody tr th {\n",
       "        vertical-align: top;\n",
       "    }\n",
       "\n",
       "    .dataframe thead th {\n",
       "        text-align: right;\n",
       "    }\n",
       "</style>\n",
       "<table border=\"1\" class=\"dataframe\">\n",
       "  <thead>\n",
       "    <tr style=\"text-align: right;\">\n",
       "      <th>Metric</th>\n",
       "      <th>byr</th>\n",
       "      <th>cid</th>\n",
       "      <th>ecl</th>\n",
       "      <th>eyr</th>\n",
       "      <th>hcl</th>\n",
       "      <th>hgt</th>\n",
       "      <th>iyr</th>\n",
       "      <th>pid</th>\n",
       "    </tr>\n",
       "    <tr>\n",
       "      <th>Pass</th>\n",
       "      <th></th>\n",
       "      <th></th>\n",
       "      <th></th>\n",
       "      <th></th>\n",
       "      <th></th>\n",
       "      <th></th>\n",
       "      <th></th>\n",
       "      <th></th>\n",
       "    </tr>\n",
       "  </thead>\n",
       "  <tbody>\n",
       "    <tr>\n",
       "      <th>1</th>\n",
       "      <td>1920</td>\n",
       "      <td>123</td>\n",
       "      <td>gry</td>\n",
       "      <td>2029</td>\n",
       "      <td>#6b5442</td>\n",
       "      <td>181cm</td>\n",
       "      <td>2010</td>\n",
       "      <td>591597745</td>\n",
       "    </tr>\n",
       "    <tr>\n",
       "      <th>2</th>\n",
       "      <td>1927</td>\n",
       "      <td>223</td>\n",
       "      <td>amb</td>\n",
       "      <td>2020</td>\n",
       "      <td>#602927</td>\n",
       "      <td>177cm</td>\n",
       "      <td>2016</td>\n",
       "      <td>404183620</td>\n",
       "    </tr>\n",
       "    <tr>\n",
       "      <th>3</th>\n",
       "      <td>1998</td>\n",
       "      <td>178</td>\n",
       "      <td>hzl</td>\n",
       "      <td>2030</td>\n",
       "      <td>#a97842</td>\n",
       "      <td>166cm</td>\n",
       "      <td>2014</td>\n",
       "      <td>594143498</td>\n",
       "    </tr>\n",
       "    <tr>\n",
       "      <th>4</th>\n",
       "      <td>NaN</td>\n",
       "      <td>NaN</td>\n",
       "      <td>hzl</td>\n",
       "      <td>2024</td>\n",
       "      <td>#de745c</td>\n",
       "      <td>157cm</td>\n",
       "      <td>2018</td>\n",
       "      <td>795349208</td>\n",
       "    </tr>\n",
       "    <tr>\n",
       "      <th>5</th>\n",
       "      <td>1978</td>\n",
       "      <td>117</td>\n",
       "      <td>hzl</td>\n",
       "      <td>2025</td>\n",
       "      <td>#18171d</td>\n",
       "      <td>159cm</td>\n",
       "      <td>2018</td>\n",
       "      <td>364060467</td>\n",
       "    </tr>\n",
       "  </tbody>\n",
       "</table>\n",
       "</div>"
      ],
      "text/plain": [
       "Metric   byr  cid  ecl   eyr      hcl    hgt   iyr        pid\n",
       "Pass                                                         \n",
       "1       1920  123  gry  2029  #6b5442  181cm  2010  591597745\n",
       "2       1927  223  amb  2020  #602927  177cm  2016  404183620\n",
       "3       1998  178  hzl  2030  #a97842  166cm  2014  594143498\n",
       "4        NaN  NaN  hzl  2024  #de745c  157cm  2018  795349208\n",
       "5       1978  117  hzl  2025  #18171d  159cm  2018  364060467"
      ]
     },
     "execution_count": 237,
     "metadata": {},
     "output_type": "execute_result"
    }
   ],
   "source": [
    "df4_pivot = pd.pivot(df4_2, values = 'Value', index = 'Pass', columns = 'Metric')\n",
    "df4_pivot.head()"
   ]
  },
  {
   "cell_type": "code",
   "execution_count": 238,
   "metadata": {},
   "outputs": [
    {
     "name": "stdout",
     "output_type": "stream",
     "text": [
      "Answer: 254\n"
     ]
    }
   ],
   "source": [
    "print('Answer: ' + str(df4_pivot.drop('cid', axis = 1).dropna().shape[0]))"
   ]
  },
  {
   "cell_type": "markdown",
   "metadata": {},
   "source": [
    "____\n",
    "# --- Part Two ---\n",
    "The line is moving more quickly now, but you overhear airport security talking about how passports with invalid data are getting through. Better add some data validation, quick!\n",
    "\n",
    "You can continue to ignore the cid field, but each other field has strict rules about what values are valid for automatic validation:\n",
    "\n",
    "byr (Birth Year) - four digits; at least 1920 and at most 2002.<br>\n",
    "iyr (Issue Year) - four digits; at least 2010 and at most 2020.<br>\n",
    "eyr (Expiration Year) - four digits; at least 2020 and at most 2030.<br>\n",
    "hgt (Height) - a number followed by either cm or in:<br>\n",
    "If cm, the number must be at least 150 and at most 193.<br>\n",
    "If in, the number must be at least 59 and at most 76.<br>\n",
    "hcl (Hair Color) - a # followed by exactly six characters 0-9 or a-f.<br>\n",
    "ecl (Eye Color) - exactly one of: amb blu brn gry grn hzl oth.<br>\n",
    "pid (Passport ID) - a nine-digit number, including leading zeroes.<br>\n",
    "cid (Country ID) - ignored, missing or not.<br><br>\n",
    "Your job is to count the passports where all required fields are both present and valid according to the above rules. Here are some example values:\n",
    "\n",
    "byr valid:   2002<br>\n",
    "byr invalid: 2003<br>\n",
    "\n",
    "hgt valid:   60in<br>\n",
    "hgt valid:   190cm<br>\n",
    "hgt invalid: 190in<br>\n",
    "hgt invalid: 190<br>\n",
    "\n",
    "hcl valid:   #123abc<br>\n",
    "hcl invalid: #123abz<br>\n",
    "hcl invalid: 123abc<br>\n",
    "\n",
    "ecl valid:   brn<br>\n",
    "ecl invalid: wat<br>\n",
    "\n",
    "pid valid:   000000001<br>\n",
    "pid invalid: 0123456789<br>\n",
    "Here are some invalid passports:\n",
    "\n",
    "eyr:1972 cid:100<br>\n",
    "hcl:#18171d ecl:amb hgt:170 pid:186cm iyr:2018 byr:1926<br>\n",
    "\n",
    "iyr:2019<br>\n",
    "hcl:#602927 eyr:1967 hgt:170cm<br>\n",
    "ecl:grn pid:012533040 byr:1946<br>\n",
    "\n",
    "hcl:dab227 iyr:2012<br>\n",
    "ecl:brn hgt:182cm pid:021572410 eyr:2020 byr:1992 cid:277<br>\n",
    "\n",
    "hgt:59cm ecl:zzz<br>\n",
    "eyr:2038 hcl:74454a iyr:2023<br>\n",
    "pid:3556412378 byr:2007<br>\n",
    "Here are some valid passports:\n",
    "\n",
    "pid:087499704 hgt:74in ecl:grn iyr:2012 eyr:2030 byr:1980<br>\n",
    "hcl:#623a2f<br>\n",
    "\n",
    "eyr:2029 ecl:blu cid:129 byr:1989<br>\n",
    "iyr:2014 pid:896056539 hcl:#a97842 hgt:165cm<br>\n",
    "\n",
    "hcl:#888785<br>\n",
    "hgt:164cm byr:2001 iyr:2015 cid:88<br>\n",
    "pid:545766238 ecl:hzl<br>\n",
    "eyr:2022<br>\n",
    "\n",
    "iyr:2010 hgt:158cm hcl:#b6652a ecl:blu byr:1944 eyr:2021 pid:093154719<br>\n",
    "Count the number of valid passports - those that have all required fields and valid values. Continue to treat cid as optional. In your batch file, how many passports are valid?\n",
    "\n",
    "Your puzzle answer was 184.\n",
    "\n",
    "Both parts of this puzzle are complete! They provide two gold stars: **"
   ]
  },
  {
   "cell_type": "code",
   "execution_count": 240,
   "metadata": {},
   "outputs": [],
   "source": [
    "import re"
   ]
  },
  {
   "cell_type": "code",
   "execution_count": 239,
   "metadata": {},
   "outputs": [],
   "source": [
    "df4_3 = df4_pivot.drop('cid', axis = 1)\n",
    "df4_3 = df4_3.dropna()"
   ]
  },
  {
   "cell_type": "code",
   "execution_count": 241,
   "metadata": {},
   "outputs": [],
   "source": [
    "df4_3['Test'] = df4_3.apply(lambda x: True if\n",
    "    1920 <= pd.to_numeric(x['byr']) <= 2002 \n",
    "    and 2010 <= pd.to_numeric(x['iyr']) <= 2020\n",
    "    and 2020 <= pd.to_numeric(x['eyr']) <= 2030\n",
    "    and ((True if x['hgt'][-2:] == 'cm' and 150 <= pd.to_numeric(x['hgt'][:-2]) <= 193\n",
    "        or x['hgt'][-2:] == 'in' and 59 <= pd.to_numeric(x['hgt'][:-2]) <= 76 else False))\n",
    "    and bool(re.match(\"^#+[0-9a-f]{6}$\", x['hcl']))\n",
    "    and x['ecl'] in ['amb', 'blu', 'brn', 'gry', 'grn', 'hzl', 'oth']\n",
    "    and bool(re.match(\"[0-9]{9}$\", x['pid']))                   \n",
    "    else False, axis = 1)"
   ]
  },
  {
   "cell_type": "code",
   "execution_count": 244,
   "metadata": {},
   "outputs": [
    {
     "name": "stdout",
     "output_type": "stream",
     "text": [
      "Answer: 184\n"
     ]
    }
   ],
   "source": [
    "print('Answer: ' + str(df4_3['Test'].sum()))"
   ]
  },
  {
   "cell_type": "markdown",
   "metadata": {},
   "source": [
    "____\n",
    "# --- Day 5: Binary Boarding ---\n",
    "## Key words: Binary numbers\n",
    "You board your plane only to discover a new problem: you dropped your boarding pass! You aren't sure which seat is yours, and all of the flight attendants are busy with the flood of people that suddenly made it through passport control.\n",
    "\n",
    "You write a quick program to use your phone's camera to scan all of the nearby boarding passes (your puzzle input); perhaps you can find your seat through process of elimination.\n",
    "\n",
    "Instead of zones or groups, this airline uses binary space partitioning to seat people. A seat might be specified like FBFBBFFRLR, where F means \"front\", B means \"back\", L means \"left\", and R means \"right\".\n",
    "\n",
    "The first 7 characters will either be F or B; these specify exactly one of the 128 rows on the plane (numbered 0 through 127). Each letter tells you which half of a region the given seat is in. Start with the whole list of rows; the first letter indicates whether the seat is in the front (0 through 63) or the back (64 through 127). The next letter indicates which half of that region the seat is in, and so on until you're left with exactly one row.\n",
    "\n",
    "For example, consider just the first seven characters of FBFBBFFRLR:\n",
    "\n",
    "Start by considering the whole range, rows 0 through 127.<br>\n",
    "F means to take the lower half, keeping rows 0 through 63.<br>\n",
    "B means to take the upper half, keeping rows 32 through 63.<br>\n",
    "F means to take the lower half, keeping rows 32 through 47.<br>\n",
    "B means to take the upper half, keeping rows 40 through 47.<br>\n",
    "B keeps rows 44 through 47.<br>\n",
    "F keeps rows 44 through 45.<br>\n",
    "The final F keeps the lower of the two, row 44.<br>\n",
    "The last three characters will be either L or R; these specify exactly one of the 8 columns of seats on the plane (numbered 0 through 7). The same process as above proceeds again, this time with only three steps. L means to keep the lower half, while R means to keep the upper half.\n",
    "\n",
    "For example, consider just the last 3 characters of FBFBBFFRLR:\n",
    "\n",
    "Start by considering the whole range, columns 0 through 7.<br>\n",
    "R means to take the upper half, keeping columns 4 through 7.<br>\n",
    "L means to take the lower half, keeping columns 4 through 5.<br>\n",
    "The final R keeps the upper of the two, column 5.<br>\n",
    "So, decoding FBFBBFFRLR reveals that it is the seat at row 44, column 5.\n",
    "\n",
    "Every seat also has a unique seat ID: multiply the row by 8, then add the column. In this example, the seat has ID 44 * 8 + 5 = 357.\n",
    "\n",
    "Here are some other boarding passes:\n",
    "\n",
    "BFFFBBFRRR: row 70, column 7, seat ID 567.<br>\n",
    "FFFBBBFRRR: row 14, column 7, seat ID 119.<br>\n",
    "BBFFBBFRLL: row 102, column 4, seat ID 820.<br>\n",
    "As a sanity check, look through your list of boarding passes. What is the highest seat ID on a boarding pass?\n",
    "\n",
    "Your puzzle answer was 888."
   ]
  },
  {
   "cell_type": "code",
   "execution_count": 18,
   "metadata": {},
   "outputs": [],
   "source": [
    "import pandas as pd\n",
    "import math"
   ]
  },
  {
   "cell_type": "code",
   "execution_count": 246,
   "metadata": {},
   "outputs": [
    {
     "data": {
      "text/html": [
       "<div>\n",
       "<style scoped>\n",
       "    .dataframe tbody tr th:only-of-type {\n",
       "        vertical-align: middle;\n",
       "    }\n",
       "\n",
       "    .dataframe tbody tr th {\n",
       "        vertical-align: top;\n",
       "    }\n",
       "\n",
       "    .dataframe thead th {\n",
       "        text-align: right;\n",
       "    }\n",
       "</style>\n",
       "<table border=\"1\" class=\"dataframe\">\n",
       "  <thead>\n",
       "    <tr style=\"text-align: right;\">\n",
       "      <th></th>\n",
       "      <th>Seat</th>\n",
       "    </tr>\n",
       "  </thead>\n",
       "  <tbody>\n",
       "    <tr>\n",
       "      <th>0</th>\n",
       "      <td>FBBBFFFLRL</td>\n",
       "    </tr>\n",
       "    <tr>\n",
       "      <th>1</th>\n",
       "      <td>BFFBBBBLRL</td>\n",
       "    </tr>\n",
       "    <tr>\n",
       "      <th>2</th>\n",
       "      <td>FBFFFBBRRR</td>\n",
       "    </tr>\n",
       "    <tr>\n",
       "      <th>3</th>\n",
       "      <td>FBFBBFFLRL</td>\n",
       "    </tr>\n",
       "    <tr>\n",
       "      <th>4</th>\n",
       "      <td>FFFBFBBRLR</td>\n",
       "    </tr>\n",
       "  </tbody>\n",
       "</table>\n",
       "</div>"
      ],
      "text/plain": [
       "         Seat\n",
       "0  FBBBFFFLRL\n",
       "1  BFFBBBBLRL\n",
       "2  FBFFFBBRRR\n",
       "3  FBFBBFFLRL\n",
       "4  FFFBFBBRLR"
      ]
     },
     "execution_count": 246,
     "metadata": {},
     "output_type": "execute_result"
    }
   ],
   "source": [
    "df5 = pd.read_excel('5.xlsx', header = None, names = ['Seat'])\n",
    "df5.head()"
   ]
  },
  {
   "cell_type": "code",
   "execution_count": 256,
   "metadata": {},
   "outputs": [],
   "source": [
    "def seat_id(x):\n",
    "    a = 0\n",
    "    r = 0 \n",
    "    c = 0\n",
    "    for a in range(7):\n",
    "        if x[a] == 'B':\n",
    "            r = r + (128 / (2**(a+1)))\n",
    "    for b in range(3):\n",
    "        if x[b+7] == 'R':\n",
    "            c = c + (8 / (2**(b+1)))\n",
    "    return int(r * 8 + c)"
   ]
  },
  {
   "cell_type": "code",
   "execution_count": 257,
   "metadata": {},
   "outputs": [],
   "source": [
    "df5['Seat_ID'] = df5.apply(lambda x: seat_id(x['Seat']), axis = 1)"
   ]
  },
  {
   "cell_type": "code",
   "execution_count": 258,
   "metadata": {},
   "outputs": [
    {
     "name": "stdout",
     "output_type": "stream",
     "text": [
      "Answer: 888\n"
     ]
    }
   ],
   "source": [
    "print('Answer: ' + str(max(df5['Seat_ID'])))"
   ]
  },
  {
   "cell_type": "markdown",
   "metadata": {},
   "source": [
    "___\n",
    "# --- Part Two ---\n",
    "Ding! The \"fasten seat belt\" signs have turned on. Time to find your seat.\n",
    "\n",
    "It's a completely full flight, so your seat should be the only missing boarding pass in your list. However, there's a catch: some of the seats at the very front and back of the plane don't exist on this aircraft, so they'll be missing from your list as well.\n",
    "\n",
    "Your seat wasn't at the very front or back, though; the seats with IDs +1 and -1 from yours will be in your list.\n",
    "\n",
    "What is the ID of your seat?\n",
    "\n",
    "Your puzzle answer was 522."
   ]
  },
  {
   "cell_type": "code",
   "execution_count": 278,
   "metadata": {},
   "outputs": [],
   "source": [
    "df5.sort_values(by = 'Seat_ID', inplace = True)\n",
    "df5.reset_index(drop = True, inplace = True)"
   ]
  },
  {
   "cell_type": "code",
   "execution_count": 308,
   "metadata": {},
   "outputs": [
    {
     "name": "stdout",
     "output_type": "stream",
     "text": [
      "Answer: 522\n"
     ]
    }
   ],
   "source": [
    "print('Answer: ' + str(int(df5[df5['Seat_ID'].diff() != 1][1:]['Seat_ID']-1)))"
   ]
  },
  {
   "cell_type": "markdown",
   "metadata": {},
   "source": [
    "____\n",
    "# --- Day 6: Custom Customs ---\n",
    "## Key words: Text analysis, unstructured data\n",
    "As your flight approaches the regional airport where you'll switch to a much larger plane, customs declaration forms are distributed to the passengers.\n",
    "\n",
    "The form asks a series of 26 yes-or-no questions marked a through z. All you need to do is identify the questions for which anyone in your group answers \"yes\". Since your group is just you, this doesn't take very long.\n",
    "\n",
    "However, the person sitting next to you seems to be experiencing a language barrier and asks if you can help. For each of the people in their group, you write down the questions for which they answer \"yes\", one per line. For example:\n",
    "\n",
    "abcx<br>\n",
    "abcy<br>\n",
    "abcz<br>\n",
    "In this group, there are 6 questions to which anyone answered \"yes\": a, b, c, x, y, and z. (Duplicate answers to the same question don't count extra; each question counts at most once.)\n",
    "\n",
    "Another group asks for your help, then another, and eventually you've collected answers from every group on the plane (your puzzle input). Each group's answers are separated by a blank line, and within each group, each person's answers are on a single line. For example:\n",
    "\n",
    "abc\n",
    "\n",
    "a<br>\n",
    "b<br>\n",
    "c<br>\n",
    "\n",
    "ab<br>\n",
    "ac<br>\n",
    "\n",
    "a<br>\n",
    "a<br>\n",
    "a<br>\n",
    "a<br>\n",
    "\n",
    "b<br>\n",
    "This list represents answers from five groups:\n",
    "\n",
    "The first group contains one person who answered \"yes\" to 3 questions: a, b, and c.<br>\n",
    "The second group contains three people; combined, they answered \"yes\" to 3 questions: a, b, and c.<br>\n",
    "The third group contains two people; combined, they answered \"yes\" to 3 questions: a, b, and c.<br>\n",
    "The fourth group contains four people; combined, they answered \"yes\" to only 1 question, a.<br>\n",
    "The last group contains one person who answered \"yes\" to only 1 question, b.<br>\n",
    "In this example, the sum of these counts is 3 + 3 + 3 + 1 + 1 = 11.<br>\n",
    "\n",
    "For each group, count the number of questions to which anyone answered \"yes\". What is the sum of those counts?\n",
    "\n",
    "Your puzzle answer was 6703."
   ]
  },
  {
   "cell_type": "code",
   "execution_count": 309,
   "metadata": {},
   "outputs": [],
   "source": [
    "import pandas as pd"
   ]
  },
  {
   "cell_type": "code",
   "execution_count": 316,
   "metadata": {},
   "outputs": [
    {
     "data": {
      "text/html": [
       "<div>\n",
       "<style scoped>\n",
       "    .dataframe tbody tr th:only-of-type {\n",
       "        vertical-align: middle;\n",
       "    }\n",
       "\n",
       "    .dataframe tbody tr th {\n",
       "        vertical-align: top;\n",
       "    }\n",
       "\n",
       "    .dataframe thead th {\n",
       "        text-align: right;\n",
       "    }\n",
       "</style>\n",
       "<table border=\"1\" class=\"dataframe\">\n",
       "  <thead>\n",
       "    <tr style=\"text-align: right;\">\n",
       "      <th></th>\n",
       "      <th>Answer</th>\n",
       "    </tr>\n",
       "  </thead>\n",
       "  <tbody>\n",
       "    <tr>\n",
       "      <th>0</th>\n",
       "      <td>w</td>\n",
       "    </tr>\n",
       "    <tr>\n",
       "      <th>1</th>\n",
       "      <td>s</td>\n",
       "    </tr>\n",
       "    <tr>\n",
       "      <th>2</th>\n",
       "      <td>q</td>\n",
       "    </tr>\n",
       "    <tr>\n",
       "      <th>3</th>\n",
       "      <td>s</td>\n",
       "    </tr>\n",
       "    <tr>\n",
       "      <th>4</th>\n",
       "      <td>NaN</td>\n",
       "    </tr>\n",
       "    <tr>\n",
       "      <th>5</th>\n",
       "      <td>klfrwivqhc</td>\n",
       "    </tr>\n",
       "    <tr>\n",
       "      <th>6</th>\n",
       "      <td>w</td>\n",
       "    </tr>\n",
       "    <tr>\n",
       "      <th>7</th>\n",
       "      <td>wgyze</td>\n",
       "    </tr>\n",
       "    <tr>\n",
       "      <th>8</th>\n",
       "      <td>anw</td>\n",
       "    </tr>\n",
       "    <tr>\n",
       "      <th>9</th>\n",
       "      <td>NaN</td>\n",
       "    </tr>\n",
       "  </tbody>\n",
       "</table>\n",
       "</div>"
      ],
      "text/plain": [
       "       Answer\n",
       "0           w\n",
       "1           s\n",
       "2           q\n",
       "3           s\n",
       "4         NaN\n",
       "5  klfrwivqhc\n",
       "6           w\n",
       "7       wgyze\n",
       "8         anw\n",
       "9         NaN"
      ]
     },
     "execution_count": 316,
     "metadata": {},
     "output_type": "execute_result"
    }
   ],
   "source": [
    "df6 = pd.read_excel('6.xlsx', header = None, names = ['Answer'], skip_blank_lines = False)\n",
    "df6.head(10)"
   ]
  },
  {
   "cell_type": "code",
   "execution_count": 317,
   "metadata": {},
   "outputs": [],
   "source": [
    "a=1\n",
    "df6['Group'] = ''\n",
    "for i in range(len(df6)):\n",
    "    if df6['Answer'][i] != df6['Answer'][i]:\n",
    "        a = a + 1\n",
    "    df6['Group'][i] = a"
   ]
  },
  {
   "cell_type": "code",
   "execution_count": 318,
   "metadata": {},
   "outputs": [],
   "source": [
    "df6_2 = df6.dropna().groupby(['Group'])['Answer'].apply(lambda x: ''.join(x.astype(str))).reset_index()"
   ]
  },
  {
   "cell_type": "code",
   "execution_count": 319,
   "metadata": {},
   "outputs": [
    {
     "name": "stdout",
     "output_type": "stream",
     "text": [
      "Answer: 6703\n"
     ]
    }
   ],
   "source": [
    "print('Answer: ' + str(df6_2.apply(lambda x: len(set(x['Answer'])),axis = 1).sum()))"
   ]
  },
  {
   "cell_type": "markdown",
   "metadata": {},
   "source": [
    "___\n",
    "# --- Part Two ---\n",
    "As you finish the last group's customs declaration, you notice that you misread one word in the instructions:\n",
    "\n",
    "You don't need to identify the questions to which anyone answered \"yes\"; you need to identify the questions to which everyone answered \"yes\"!\n",
    "\n",
    "Using the same example as above:\n",
    "\n",
    "abc\n",
    "\n",
    "a<br>\n",
    "b<br>\n",
    "c<br>\n",
    "\n",
    "ab<br>\n",
    "ac<br>\n",
    "\n",
    "a<br>\n",
    "a<br>\n",
    "a<br>\n",
    "a<br>\n",
    "\n",
    "b<br>\n",
    "This list represents answers from five groups:\n",
    "\n",
    "In the first group, everyone (all 1 person) answered \"yes\" to 3 questions: a, b, and c.<br>\n",
    "In the second group, there is no question to which everyone answered \"yes\".<br>\n",
    "In the third group, everyone answered yes to only 1 question, a. Since some people did not answer \"yes\" to b or c, they don't count.<br>\n",
    "In the fourth group, everyone answered yes to only 1 question, a.<br>\n",
    "In the fifth group, everyone (all 1 person) answered \"yes\" to 1 question, b.<br>\n",
    "In this example, the sum of these counts is 3 + 0 + 1 + 1 + 1 = 6.<br>\n",
    "\n",
    "For each group, count the number of questions to which everyone answered \"yes\". What is the sum of those counts?\n",
    "\n",
    "Your puzzle answer was 3430.\n",
    "\n",
    "Both parts of this puzzle are complete! They provide two gold stars: **"
   ]
  },
  {
   "cell_type": "code",
   "execution_count": 325,
   "metadata": {},
   "outputs": [
    {
     "data": {
      "text/html": [
       "<div>\n",
       "<style scoped>\n",
       "    .dataframe tbody tr th:only-of-type {\n",
       "        vertical-align: middle;\n",
       "    }\n",
       "\n",
       "    .dataframe tbody tr th {\n",
       "        vertical-align: top;\n",
       "    }\n",
       "\n",
       "    .dataframe thead th {\n",
       "        text-align: right;\n",
       "    }\n",
       "</style>\n",
       "<table border=\"1\" class=\"dataframe\">\n",
       "  <thead>\n",
       "    <tr style=\"text-align: right;\">\n",
       "      <th></th>\n",
       "      <th>Group</th>\n",
       "      <th>Answer</th>\n",
       "      <th>Count</th>\n",
       "    </tr>\n",
       "  </thead>\n",
       "  <tbody>\n",
       "    <tr>\n",
       "      <th>0</th>\n",
       "      <td>1</td>\n",
       "      <td>wsqs</td>\n",
       "      <td>4</td>\n",
       "    </tr>\n",
       "    <tr>\n",
       "      <th>1</th>\n",
       "      <td>2</td>\n",
       "      <td>klfrwivqhcwwgyzeanw</td>\n",
       "      <td>4</td>\n",
       "    </tr>\n",
       "    <tr>\n",
       "      <th>2</th>\n",
       "      <td>3</td>\n",
       "      <td>khfraeogtbdscwrdofujgnmydfrgodgjoqmrfyrfdgzpon</td>\n",
       "      <td>5</td>\n",
       "    </tr>\n",
       "    <tr>\n",
       "      <th>3</th>\n",
       "      <td>4</td>\n",
       "      <td>xmivszjcnqhdaefwvanjddvjuywnaegjwvndkboa</td>\n",
       "      <td>4</td>\n",
       "    </tr>\n",
       "    <tr>\n",
       "      <th>4</th>\n",
       "      <td>5</td>\n",
       "      <td>mraiyzpxngdlynzdmgkxwpaiolr</td>\n",
       "      <td>2</td>\n",
       "    </tr>\n",
       "  </tbody>\n",
       "</table>\n",
       "</div>"
      ],
      "text/plain": [
       "   Group                                          Answer  Count\n",
       "0      1                                            wsqs      4\n",
       "1      2                             klfrwivqhcwwgyzeanw      4\n",
       "2      3  khfraeogtbdscwrdofujgnmydfrgodgjoqmrfyrfdgzpon      5\n",
       "3      4        xmivszjcnqhdaefwvanjddvjuywnaegjwvndkboa      4\n",
       "4      5                     mraiyzpxngdlynzdmgkxwpaiolr      2"
      ]
     },
     "execution_count": 325,
     "metadata": {},
     "output_type": "execute_result"
    }
   ],
   "source": [
    "df6['Count'] = ''\n",
    "df6_3 = df6.dropna().groupby(['Group'])['Count'].apply(lambda x: x.count()).reset_index()\n",
    "df6_4 = pd.merge(df6_2, df6_3, on = 'Group')\n",
    "df6_4.head()"
   ]
  },
  {
   "cell_type": "code",
   "execution_count": 326,
   "metadata": {},
   "outputs": [
    {
     "name": "stderr",
     "output_type": "stream",
     "text": [
      "/usr/local/lib/python3.7/dist-packages/ipykernel_launcher.py:7: SettingWithCopyWarning: \n",
      "A value is trying to be set on a copy of a slice from a DataFrame\n",
      "\n",
      "See the caveats in the documentation: http://pandas.pydata.org/pandas-docs/stable/user_guide/indexing.html#returning-a-view-versus-a-copy\n",
      "  import sys\n"
     ]
    }
   ],
   "source": [
    "df6_4['Result'] = ''\n",
    "for a in range(len(df6_4)):\n",
    "    c = 0\n",
    "    for b in set(df6_4['Answer'][a]):\n",
    "        if df6_4['Answer'][a].count(b) == df6_4['Count'][a]:\n",
    "            c = c + 1\n",
    "    df6_4['Result'][a] = c"
   ]
  },
  {
   "cell_type": "code",
   "execution_count": 328,
   "metadata": {},
   "outputs": [
    {
     "name": "stdout",
     "output_type": "stream",
     "text": [
      "Answer: 3430\n"
     ]
    }
   ],
   "source": [
    "print('Answer: ' + str(df6_4['Result'].sum()))"
   ]
  },
  {
   "cell_type": "markdown",
   "metadata": {},
   "source": [
    "___\n",
    "# --- Day 7: Handy Haversacks ---\n",
    "## Key words: Data manipulation, nested loop calculation\n",
    "You land at the regional airport in time for your next flight. In fact, it looks like you'll even have time to grab some food: all flights are currently delayed due to issues in luggage processing.\n",
    "\n",
    "Due to recent aviation regulations, many rules (your puzzle input) are being enforced about bags and their contents; bags must be color-coded and must contain specific quantities of other color-coded bags. Apparently, nobody responsible for these regulations considered how long they would take to enforce!\n",
    "\n",
    "For example, consider the following rules:\n",
    "\n",
    "light red bags contain 1 bright white bag, 2 muted yellow bags.<br>\n",
    "dark orange bags contain 3 bright white bags, 4 muted yellow bags.<br>\n",
    "bright white bags contain 1 shiny gold bag.<br>\n",
    "muted yellow bags contain 2 shiny gold bags, 9 faded blue bags.<br>\n",
    "shiny gold bags contain 1 dark olive bag, 2 vibrant plum bags.<br>\n",
    "dark olive bags contain 3 faded blue bags, 4 dotted black bags.<br>\n",
    "vibrant plum bags contain 5 faded blue bags, 6 dotted black bags.<br>\n",
    "faded blue bags contain no other bags.<br>\n",
    "dotted black bags contain no other bags.<br>\n",
    "These rules specify the required contents for 9 bag types. In this example, every faded blue bag is empty, every vibrant plum bag contains 11 bags (5 faded blue and 6 dotted black), and so on.\n",
    "\n",
    "You have a shiny gold bag. If you wanted to carry it in at least one other bag, how many different bag colors would be valid for the outermost bag? (In other words: how many colors can, eventually, contain at least one shiny gold bag?)\n",
    "\n",
    "In the above rules, the following options would be available to you:\n",
    "\n",
    "A bright white bag, which can hold your shiny gold bag directly.<br>\n",
    "A muted yellow bag, which can hold your shiny gold bag directly, plus some other bags.<br>\n",
    "A dark orange bag, which can hold bright white and muted yellow bags, either of which could then hold your shiny gold bag.<br>\n",
    "A light red bag, which can hold bright white and muted yellow bags, either of which could then hold your shiny gold bag.<br>\n",
    "So, in this example, the number of bag colors that can eventually contain at least one shiny gold bag is 4.\n",
    "\n",
    "How many bag colors can eventually contain at least one shiny gold bag? (The list of rules is quite long; make sure you get all of it.)\n",
    "\n",
    "Your puzzle answer was 246."
   ]
  },
  {
   "cell_type": "code",
   "execution_count": 1,
   "metadata": {},
   "outputs": [],
   "source": [
    "import pandas as pd"
   ]
  },
  {
   "cell_type": "code",
   "execution_count": 2,
   "metadata": {},
   "outputs": [
    {
     "data": {
      "text/html": [
       "<div>\n",
       "<style scoped>\n",
       "    .dataframe tbody tr th:only-of-type {\n",
       "        vertical-align: middle;\n",
       "    }\n",
       "\n",
       "    .dataframe tbody tr th {\n",
       "        vertical-align: top;\n",
       "    }\n",
       "\n",
       "    .dataframe thead th {\n",
       "        text-align: right;\n",
       "    }\n",
       "</style>\n",
       "<table border=\"1\" class=\"dataframe\">\n",
       "  <thead>\n",
       "    <tr style=\"text-align: right;\">\n",
       "      <th></th>\n",
       "      <th>Rule</th>\n",
       "    </tr>\n",
       "  </thead>\n",
       "  <tbody>\n",
       "    <tr>\n",
       "      <th>0</th>\n",
       "      <td>dark olive bags contain 2 muted brown bags, 1 ...</td>\n",
       "    </tr>\n",
       "    <tr>\n",
       "      <th>1</th>\n",
       "      <td>faded coral bags contain 3 drab cyan bags, 1 l...</td>\n",
       "    </tr>\n",
       "    <tr>\n",
       "      <th>2</th>\n",
       "      <td>plaid plum bags contain 2 mirrored cyan bags.</td>\n",
       "    </tr>\n",
       "    <tr>\n",
       "      <th>3</th>\n",
       "      <td>clear maroon bags contain 1 dotted turquoise b...</td>\n",
       "    </tr>\n",
       "    <tr>\n",
       "      <th>4</th>\n",
       "      <td>plaid coral bags contain 3 posh fuchsia bags, ...</td>\n",
       "    </tr>\n",
       "  </tbody>\n",
       "</table>\n",
       "</div>"
      ],
      "text/plain": [
       "                                                Rule\n",
       "0  dark olive bags contain 2 muted brown bags, 1 ...\n",
       "1  faded coral bags contain 3 drab cyan bags, 1 l...\n",
       "2      plaid plum bags contain 2 mirrored cyan bags.\n",
       "3  clear maroon bags contain 1 dotted turquoise b...\n",
       "4  plaid coral bags contain 3 posh fuchsia bags, ..."
      ]
     },
     "execution_count": 2,
     "metadata": {},
     "output_type": "execute_result"
    }
   ],
   "source": [
    "df7 = pd.read_excel('7.xlsx', header = None, names = ['Rule'])\n",
    "df7.head()"
   ]
  },
  {
   "cell_type": "code",
   "execution_count": 3,
   "metadata": {},
   "outputs": [],
   "source": [
    "df7[['Bag', 'Inside']] = df7['Rule'].str.split('contain', expand = True)\n",
    "df7.drop('Rule', axis = 1, inplace = True)"
   ]
  },
  {
   "cell_type": "code",
   "execution_count": 4,
   "metadata": {},
   "outputs": [
    {
     "data": {
      "text/html": [
       "<div>\n",
       "<style scoped>\n",
       "    .dataframe tbody tr th:only-of-type {\n",
       "        vertical-align: middle;\n",
       "    }\n",
       "\n",
       "    .dataframe tbody tr th {\n",
       "        vertical-align: top;\n",
       "    }\n",
       "\n",
       "    .dataframe thead th {\n",
       "        text-align: right;\n",
       "    }\n",
       "</style>\n",
       "<table border=\"1\" class=\"dataframe\">\n",
       "  <thead>\n",
       "    <tr style=\"text-align: right;\">\n",
       "      <th></th>\n",
       "      <th>Bag</th>\n",
       "      <th>Inside</th>\n",
       "    </tr>\n",
       "  </thead>\n",
       "  <tbody>\n",
       "    <tr>\n",
       "      <th>0</th>\n",
       "      <td>dark olive</td>\n",
       "      <td>muted brown, mirrored tomato, bright black</td>\n",
       "    </tr>\n",
       "    <tr>\n",
       "      <th>1</th>\n",
       "      <td>faded coral</td>\n",
       "      <td>drab cyan, light aqua</td>\n",
       "    </tr>\n",
       "    <tr>\n",
       "      <th>2</th>\n",
       "      <td>plaid plum</td>\n",
       "      <td>mirrored cyan</td>\n",
       "    </tr>\n",
       "    <tr>\n",
       "      <th>3</th>\n",
       "      <td>clear maroon</td>\n",
       "      <td>dotted turquoise, dim lavender</td>\n",
       "    </tr>\n",
       "    <tr>\n",
       "      <th>4</th>\n",
       "      <td>plaid coral</td>\n",
       "      <td>posh fuchsia, dotted beige, wavy turquoise</td>\n",
       "    </tr>\n",
       "  </tbody>\n",
       "</table>\n",
       "</div>"
      ],
      "text/plain": [
       "            Bag                                      Inside\n",
       "0    dark olive  muted brown, mirrored tomato, bright black\n",
       "1   faded coral                       drab cyan, light aqua\n",
       "2    plaid plum                               mirrored cyan\n",
       "3  clear maroon              dotted turquoise, dim lavender\n",
       "4   plaid coral  posh fuchsia, dotted beige, wavy turquoise"
      ]
     },
     "execution_count": 4,
     "metadata": {},
     "output_type": "execute_result"
    }
   ],
   "source": [
    "df7_2 = df7.copy()\n",
    "df7_2.replace([' bags', ' bag', '\\.'], \"\", regex = True, inplace = True)\n",
    "df7_2['Inside'] = df7_2['Inside'].str.replace('\\s\\d+', '')\n",
    "df7_2['Inside'] = df7_2['Inside'].str.strip()\n",
    "df7_2['Bag'] = df7_2['Bag'].str.strip()\n",
    "df7_2.head()"
   ]
  },
  {
   "cell_type": "code",
   "execution_count": null,
   "metadata": {},
   "outputs": [],
   "source": [
    "#import time\n",
    "#t_end = time.time() + 10\n",
    "#while time.time() < t_end:"
   ]
  },
  {
   "cell_type": "code",
   "execution_count": 5,
   "metadata": {},
   "outputs": [],
   "source": [
    "List_to_check = ['shiny gold']\n",
    "List_checked = []\n",
    "List_correct = []\n",
    "\n",
    "while List_to_check != []:\n",
    "    for a in List_to_check:\n",
    "        for i in range(len(df7_2)):\n",
    "            if a in df7_2['Inside'][i] and df7_2['Bag'][i] not in List_to_check and df7_2['Bag'][i] not in List_checked:\n",
    "                List_to_check.append(df7_2['Bag'][i])\n",
    "            if a in df7_2['Inside'][i] and df7_2['Bag'][i] not in List_correct: \n",
    "                List_correct.append(df7_2['Bag'][i])\n",
    "        List_to_check.remove(a)\n",
    "        List_checked.append(a)"
   ]
  },
  {
   "cell_type": "code",
   "execution_count": 6,
   "metadata": {},
   "outputs": [
    {
     "name": "stdout",
     "output_type": "stream",
     "text": [
      "Answer: 246\n"
     ]
    }
   ],
   "source": [
    "print('Answer: ' + str(len(List_correct)))"
   ]
  },
  {
   "cell_type": "markdown",
   "metadata": {},
   "source": [
    "___\n",
    "#  Part Two ---\n",
    "It's getting pretty expensive to fly these days - not because of ticket prices, but because of the ridiculous number of bags you need to buy!\n",
    "\n",
    "Consider again your shiny gold bag and the rules from the above example:\n",
    "\n",
    "faded blue bags contain 0 other bags.<br>\n",
    "dotted black bags contain 0 other bags.<br>\n",
    "vibrant plum bags contain 11 other bags: 5 faded blue bags and 6 dotted black bags.<br>\n",
    "dark olive bags contain 7 other bags: 3 faded blue bags and 4 dotted black bags.<br>\n",
    "So, a single shiny gold bag must contain 1 dark olive bag (and the 7 bags within it) plus 2 vibrant plum bags (and the 11 bags within each of those): 1 + 1*7 + 2 + 2*11 = 32 bags!\n",
    "\n",
    "Of course, the actual rules have a small chance of going several levels deeper than this example; be sure to count all of the bags, even if the nesting becomes topologically impractical!\n",
    "\n",
    "Here's another example:\n",
    "\n",
    "shiny gold bags contain 2 dark red bags.<br>\n",
    "dark red bags contain 2 dark orange bags.<br>\n",
    "dark orange bags contain 2 dark yellow bags.<br>\n",
    "dark yellow bags contain 2 dark green bags.<br>\n",
    "dark green bags contain 2 dark blue bags.<br>\n",
    "dark blue bags contain 2 dark violet bags.<br>\n",
    "dark violet bags contain no other bags.<br>\n",
    "In this example, a single shiny gold bag must contain 126 other bags.<br>\n",
    "\n",
    "How many individual bags are required inside your single shiny gold bag?"
   ]
  },
  {
   "cell_type": "code",
   "execution_count": 101,
   "metadata": {},
   "outputs": [
    {
     "data": {
      "text/html": [
       "<div>\n",
       "<style scoped>\n",
       "    .dataframe tbody tr th:only-of-type {\n",
       "        vertical-align: middle;\n",
       "    }\n",
       "\n",
       "    .dataframe tbody tr th {\n",
       "        vertical-align: top;\n",
       "    }\n",
       "\n",
       "    .dataframe thead th {\n",
       "        text-align: right;\n",
       "    }\n",
       "</style>\n",
       "<table border=\"1\" class=\"dataframe\">\n",
       "  <thead>\n",
       "    <tr style=\"text-align: right;\">\n",
       "      <th></th>\n",
       "      <th>Bag</th>\n",
       "      <th>Inside</th>\n",
       "    </tr>\n",
       "  </thead>\n",
       "  <tbody>\n",
       "    <tr>\n",
       "      <th>0</th>\n",
       "      <td>dark olive</td>\n",
       "      <td>2 muted brown, 1 mirrored tomato, 4 bright black</td>\n",
       "    </tr>\n",
       "    <tr>\n",
       "      <th>1</th>\n",
       "      <td>faded coral</td>\n",
       "      <td>3 drab cyan, 1 light aqua</td>\n",
       "    </tr>\n",
       "    <tr>\n",
       "      <th>2</th>\n",
       "      <td>plaid plum</td>\n",
       "      <td>2 mirrored cyan</td>\n",
       "    </tr>\n",
       "    <tr>\n",
       "      <th>3</th>\n",
       "      <td>clear maroon</td>\n",
       "      <td>1 dotted turquoise, 3 dim lavender</td>\n",
       "    </tr>\n",
       "    <tr>\n",
       "      <th>4</th>\n",
       "      <td>plaid coral</td>\n",
       "      <td>3 posh fuchsia, 3 dotted beige, 2 wavy turquoise</td>\n",
       "    </tr>\n",
       "  </tbody>\n",
       "</table>\n",
       "</div>"
      ],
      "text/plain": [
       "            Bag                                            Inside\n",
       "0    dark olive  2 muted brown, 1 mirrored tomato, 4 bright black\n",
       "1   faded coral                         3 drab cyan, 1 light aqua\n",
       "2    plaid plum                                   2 mirrored cyan\n",
       "3  clear maroon                1 dotted turquoise, 3 dim lavender\n",
       "4   plaid coral  3 posh fuchsia, 3 dotted beige, 2 wavy turquoise"
      ]
     },
     "execution_count": 101,
     "metadata": {},
     "output_type": "execute_result"
    }
   ],
   "source": [
    "df7_3 = df7.copy()\n",
    "df7_3.replace([' bags', ' bag', '\\.'], \"\", regex = True, inplace = True)\n",
    "df7_3['Inside'] = df7_3['Inside'].str.strip()\n",
    "df7_3['Bag'] = df7_3['Bag'].str.strip()\n",
    "df7_3.head()"
   ]
  },
  {
   "cell_type": "code",
   "execution_count": 100,
   "metadata": {},
   "outputs": [],
   "source": [
    "def List_def(lst): \n",
    "    res = [] \n",
    "    for el in lst: \n",
    "        sub = el.split(maxsplit = 1) \n",
    "        try:\n",
    "            sub[0] = int(sub[0])\n",
    "        except ValueError:\n",
    "            pass\n",
    "        res.append(sub)  \n",
    "    return(res)"
   ]
  },
  {
   "cell_type": "code",
   "execution_count": 102,
   "metadata": {},
   "outputs": [],
   "source": [
    "df7_3['Inside'] = df7_3.apply(lambda x: x['Inside'].split(\", \"), axis = 1)\n",
    "df7_3['Inside'] = df7_3.apply(lambda x: List_def(x['Inside']), axis = 1)"
   ]
  },
  {
   "cell_type": "code",
   "execution_count": 120,
   "metadata": {},
   "outputs": [
    {
     "data": {
      "text/html": [
       "<div>\n",
       "<style scoped>\n",
       "    .dataframe tbody tr th:only-of-type {\n",
       "        vertical-align: middle;\n",
       "    }\n",
       "\n",
       "    .dataframe tbody tr th {\n",
       "        vertical-align: top;\n",
       "    }\n",
       "\n",
       "    .dataframe thead th {\n",
       "        text-align: right;\n",
       "    }\n",
       "</style>\n",
       "<table border=\"1\" class=\"dataframe\">\n",
       "  <thead>\n",
       "    <tr style=\"text-align: right;\">\n",
       "      <th></th>\n",
       "      <th>Bag</th>\n",
       "      <th>Inside</th>\n",
       "    </tr>\n",
       "  </thead>\n",
       "  <tbody>\n",
       "    <tr>\n",
       "      <th>0</th>\n",
       "      <td>dark olive</td>\n",
       "      <td>[[2, muted brown], [1, mirrored tomato], [4, b...</td>\n",
       "    </tr>\n",
       "    <tr>\n",
       "      <th>1</th>\n",
       "      <td>faded coral</td>\n",
       "      <td>[[3, drab cyan], [1, light aqua]]</td>\n",
       "    </tr>\n",
       "    <tr>\n",
       "      <th>2</th>\n",
       "      <td>plaid plum</td>\n",
       "      <td>[[2, mirrored cyan]]</td>\n",
       "    </tr>\n",
       "    <tr>\n",
       "      <th>3</th>\n",
       "      <td>clear maroon</td>\n",
       "      <td>[[1, dotted turquoise], [3, dim lavender]]</td>\n",
       "    </tr>\n",
       "    <tr>\n",
       "      <th>4</th>\n",
       "      <td>plaid coral</td>\n",
       "      <td>[[3, posh fuchsia], [3, dotted beige], [2, wav...</td>\n",
       "    </tr>\n",
       "  </tbody>\n",
       "</table>\n",
       "</div>"
      ],
      "text/plain": [
       "            Bag                                             Inside\n",
       "0    dark olive  [[2, muted brown], [1, mirrored tomato], [4, b...\n",
       "1   faded coral                  [[3, drab cyan], [1, light aqua]]\n",
       "2    plaid plum                               [[2, mirrored cyan]]\n",
       "3  clear maroon         [[1, dotted turquoise], [3, dim lavender]]\n",
       "4   plaid coral  [[3, posh fuchsia], [3, dotted beige], [2, wav..."
      ]
     },
     "execution_count": 120,
     "metadata": {},
     "output_type": "execute_result"
    }
   ],
   "source": [
    "df7_3.head()"
   ]
  },
  {
   "cell_type": "code",
   "execution_count": null,
   "metadata": {},
   "outputs": [],
   "source": [
    "#import time\n",
    "#t_end = time.time() + 1\n",
    "#while time.time() < t_end:"
   ]
  },
  {
   "cell_type": "code",
   "execution_count": 121,
   "metadata": {},
   "outputs": [
    {
     "name": "stdout",
     "output_type": "stream",
     "text": [
      "Answer:  2976\n"
     ]
    }
   ],
   "source": [
    "List_to_include = [[1, 'shiny gold']]\n",
    "x = 0\n",
    "\n",
    "while List_to_include != []:\n",
    "    for a in List_to_include:\n",
    "        for b in df7_3[df7_3['Bag'] == a[1]]['Inside']:\n",
    "            for c in b:\n",
    "                if c[0] != 'no':\n",
    "                    List_to_include.append([a[0]*c[0], c[1]])\n",
    "                    x += a[0]*c[0]\n",
    "        List_to_include.remove(a)\n",
    "print('Answer: ', str(x))"
   ]
  },
  {
   "cell_type": "markdown",
   "metadata": {},
   "source": [
    "# --- Day 8: Handheld Halting ---\n",
    "Your flight to the major airline hub reaches cruising altitude without incident. While you consider checking the in-flight menu for one of those drinks that come with a little umbrella, you are interrupted by the kid sitting next to you.\n",
    "\n",
    "Their handheld game console won't turn on! They ask if you can take a look.\n",
    "\n",
    "You narrow the problem down to a strange infinite loop in the boot code (your puzzle input) of the device. You should be able to fix it, but first you need to be able to run the code in isolation.\n",
    "\n",
    "The boot code is represented as a text file with one instruction per line of text. Each instruction consists of an operation (acc, jmp, or nop) and an argument (a signed number like +4 or -20).\n",
    "\n",
    "acc increases or decreases a single global value called the accumulator by the value given in the argument. For example, acc +7 would increase the accumulator by 7. The accumulator starts at 0. After an acc instruction, the instruction immediately below it is executed next.\n",
    "jmp jumps to a new instruction relative to itself. The next instruction to execute is found using the argument as an offset from the jmp instruction; for example, jmp +2 would skip the next instruction, jmp +1 would continue to the instruction immediately below it, and jmp -20 would cause the instruction 20 lines above to be executed next.\n",
    "nop stands for No OPeration - it does nothing. The instruction immediately below it is executed next.\n",
    "For example, consider the following program:\n",
    "\n",
    "nop +0<br>\n",
    "acc +1<br>\n",
    "jmp +4<br>\n",
    "acc +3<br>\n",
    "jmp -3<br>\n",
    "acc -99<br>\n",
    "acc +1<br>\n",
    "jmp -4<br>\n",
    "acc +6<br>\n",
    "These instructions are visited in this order:\n",
    "\n",
    "nop +0  | 1<br>\n",
    "acc +1  | 2, 8(!)<br>\n",
    "jmp +4  | 3<br>\n",
    "acc +3  | 6<br>\n",
    "jmp -3  | 7<br>\n",
    "acc -99 |<br>\n",
    "acc +1  | 4<br>\n",
    "jmp -4  | 5<br>\n",
    "acc +6  |<br>\n",
    "First, the nop +0 does nothing. Then, the accumulator is increased from 0 to 1 (acc +1) and jmp +4 sets the next instruction to the other acc +1 near the bottom. After it increases the accumulator from 1 to 2, jmp -4 executes, setting the next instruction to the only acc +3. It sets the accumulator to 5, and jmp -3 causes the program to continue back at the first acc +1.\n",
    "\n",
    "This is an infinite loop: with this sequence of jumps, the program will run forever. The moment the program tries to run any instruction a second time, you know it will never terminate.\n",
    "\n",
    "Immediately before the program would run an instruction a second time, the value in the accumulator is 5.\n",
    "\n",
    "Run your copy of the boot code. Immediately before any instruction is executed a second time, what value is in the accumulator?"
   ]
  },
  {
   "cell_type": "code",
   "execution_count": 122,
   "metadata": {},
   "outputs": [],
   "source": [
    "import pandas as pd"
   ]
  },
  {
   "cell_type": "code",
   "execution_count": 174,
   "metadata": {},
   "outputs": [
    {
     "data": {
      "text/html": [
       "<div>\n",
       "<style scoped>\n",
       "    .dataframe tbody tr th:only-of-type {\n",
       "        vertical-align: middle;\n",
       "    }\n",
       "\n",
       "    .dataframe tbody tr th {\n",
       "        vertical-align: top;\n",
       "    }\n",
       "\n",
       "    .dataframe thead th {\n",
       "        text-align: right;\n",
       "    }\n",
       "</style>\n",
       "<table border=\"1\" class=\"dataframe\">\n",
       "  <thead>\n",
       "    <tr style=\"text-align: right;\">\n",
       "      <th></th>\n",
       "      <th>Input</th>\n",
       "    </tr>\n",
       "  </thead>\n",
       "  <tbody>\n",
       "    <tr>\n",
       "      <th>0</th>\n",
       "      <td>acc +8</td>\n",
       "    </tr>\n",
       "    <tr>\n",
       "      <th>1</th>\n",
       "      <td>nop +139</td>\n",
       "    </tr>\n",
       "    <tr>\n",
       "      <th>2</th>\n",
       "      <td>nop +383</td>\n",
       "    </tr>\n",
       "    <tr>\n",
       "      <th>3</th>\n",
       "      <td>jmp +628</td>\n",
       "    </tr>\n",
       "    <tr>\n",
       "      <th>4</th>\n",
       "      <td>acc -6</td>\n",
       "    </tr>\n",
       "  </tbody>\n",
       "</table>\n",
       "</div>"
      ],
      "text/plain": [
       "      Input\n",
       "0    acc +8\n",
       "1  nop +139\n",
       "2  nop +383\n",
       "3  jmp +628\n",
       "4    acc -6"
      ]
     },
     "execution_count": 174,
     "metadata": {},
     "output_type": "execute_result"
    }
   ],
   "source": [
    "df8 = pd.read_excel('8.xlsx', header = None, names = ['Input'])\n",
    "df8.head()"
   ]
  },
  {
   "cell_type": "code",
   "execution_count": 175,
   "metadata": {},
   "outputs": [],
   "source": [
    "df8[['Command', 'Value']] = df8['Input'].str.split(expand = True)\n",
    "df8.drop('Input', axis = 1, inplace = True)\n",
    "df8['Value'] = pd.to_numeric(df8['Value'])"
   ]
  },
  {
   "cell_type": "code",
   "execution_count": 224,
   "metadata": {},
   "outputs": [
    {
     "data": {
      "text/html": [
       "<div>\n",
       "<style scoped>\n",
       "    .dataframe tbody tr th:only-of-type {\n",
       "        vertical-align: middle;\n",
       "    }\n",
       "\n",
       "    .dataframe tbody tr th {\n",
       "        vertical-align: top;\n",
       "    }\n",
       "\n",
       "    .dataframe thead th {\n",
       "        text-align: right;\n",
       "    }\n",
       "</style>\n",
       "<table border=\"1\" class=\"dataframe\">\n",
       "  <thead>\n",
       "    <tr style=\"text-align: right;\">\n",
       "      <th></th>\n",
       "      <th>Command</th>\n",
       "      <th>Value</th>\n",
       "    </tr>\n",
       "  </thead>\n",
       "  <tbody>\n",
       "    <tr>\n",
       "      <th>641</th>\n",
       "      <td>acc</td>\n",
       "      <td>16</td>\n",
       "    </tr>\n",
       "    <tr>\n",
       "      <th>642</th>\n",
       "      <td>acc</td>\n",
       "      <td>35</td>\n",
       "    </tr>\n",
       "    <tr>\n",
       "      <th>643</th>\n",
       "      <td>nop</td>\n",
       "      <td>-584</td>\n",
       "    </tr>\n",
       "    <tr>\n",
       "      <th>644</th>\n",
       "      <td>acc</td>\n",
       "      <td>-12</td>\n",
       "    </tr>\n",
       "    <tr>\n",
       "      <th>645</th>\n",
       "      <td>jmp</td>\n",
       "      <td>1</td>\n",
       "    </tr>\n",
       "  </tbody>\n",
       "</table>\n",
       "</div>"
      ],
      "text/plain": [
       "    Command  Value\n",
       "641     acc     16\n",
       "642     acc     35\n",
       "643     nop   -584\n",
       "644     acc    -12\n",
       "645     jmp      1"
      ]
     },
     "execution_count": 224,
     "metadata": {},
     "output_type": "execute_result"
    }
   ],
   "source": [
    "df8.tail()"
   ]
  },
  {
   "cell_type": "code",
   "execution_count": 219,
   "metadata": {},
   "outputs": [
    {
     "name": "stdout",
     "output_type": "stream",
     "text": [
      "Answer:  1671\n"
     ]
    }
   ],
   "source": [
    "#import time\n",
    "#t_end = time.time() + 3\n",
    "#while time.time() < t_end:\n",
    "\n",
    "steps =[]\n",
    "acc = 0\n",
    "a = 0\n",
    "a_temp = 0\n",
    "\n",
    "while a not in steps:\n",
    "    steps.append(a)\n",
    "    if df8[df8.index == a]['Command'].iloc[0] == 'acc':\n",
    "        acc += df8[df8.index == a]['Value'].iloc[0]\n",
    "        a += 1\n",
    "    elif df8[df8.index == a]['Command'].iloc[0] == 'nop':\n",
    "        a += 1\n",
    "    else:       \n",
    "        a += df8[df8.index == a]['Value'].iloc[0]\n",
    "print('Answer: ', acc)"
   ]
  },
  {
   "cell_type": "code",
   "execution_count": 221,
   "metadata": {},
   "outputs": [
    {
     "data": {
      "text/plain": [
       "217"
      ]
     },
     "execution_count": 221,
     "metadata": {},
     "output_type": "execute_result"
    }
   ],
   "source": [
    "steps.sort()\n",
    "len(steps)"
   ]
  },
  {
   "cell_type": "markdown",
   "metadata": {},
   "source": [
    "___\n",
    "# --- Part Two ---\n",
    "After some careful analysis, you believe that exactly one instruction is corrupted.\n",
    "\n",
    "Somewhere in the program, either a jmp is supposed to be a nop, or a nop is supposed to be a jmp. (No acc instructions were harmed in the corruption of this boot code.)\n",
    "\n",
    "The program is supposed to terminate by attempting to execute an instruction immediately after the last instruction in the file. By changing exactly one jmp or nop, you can repair the boot code and make it terminate correctly.\n",
    "\n",
    "For example, consider the same program from above:\n",
    "\n",
    "nop +0<br>\n",
    "acc +1<br>\n",
    "jmp +4<br>\n",
    "acc +3<br>\n",
    "jmp -3<br>\n",
    "acc -99<br>\n",
    "acc +1<br>\n",
    "jmp -4<br>\n",
    "acc +6<br>\n",
    "If you change the first instruction from nop +0 to jmp +0, it would create a single-instruction infinite loop, never leaving that instruction. If you change almost any of the jmp instructions, the program will still eventually find another jmp instruction and loop forever.\n",
    "\n",
    "However, if you change the second-to-last instruction (from jmp -4 to nop -4), the program terminates! The instructions are visited in this order:\n",
    "\n",
    "nop +0  | 1<br>\n",
    "acc +1  | 2<br>\n",
    "jmp +4  | 3<br>\n",
    "acc +3  |<br>\n",
    "jmp -3  |<br>\n",
    "acc -99 |<br>\n",
    "acc +1  | 4<br>\n",
    "nop -4  | 5<br>\n",
    "acc +6  | 6<br>\n",
    "After the last instruction (acc +6), the program terminates by attempting to run the instruction below the last instruction in the file. With this change, after the program terminates, the accumulator contains the value 8 (acc +1, acc +1, acc +6).\n",
    "\n",
    "Fix the program so that it terminates normally by changing exactly one jmp (to nop) or nop (to jmp). What is the value of the accumulator after the program terminates?"
   ]
  },
  {
   "cell_type": "code",
   "execution_count": 295,
   "metadata": {},
   "outputs": [],
   "source": [
    "df8_2 = df8.copy()\n",
    "df8_3 = df8_2[df8_2['Command'].isin(['jmp', 'nop'])]"
   ]
  },
  {
   "cell_type": "code",
   "execution_count": 301,
   "metadata": {},
   "outputs": [
    {
     "name": "stdout",
     "output_type": "stream",
     "text": [
      "Answer:  892\n"
     ]
    }
   ],
   "source": [
    "#import time\n",
    "#t_end = time.time() + 10\n",
    "#while time.time() < t_end:\n",
    "\n",
    "b = 0\n",
    "while max(steps) != 646:\n",
    "    if df8_2.loc[df8_2.index == df8_3.index[b], 'Command'].iloc[0] == 'nop':\n",
    "        df8_2.loc[df8_2.index == df8_3.index[b], 'Command'] = 'jmp'\n",
    "    else: df8_2.loc[df8_2.index == df8_3.index[b], 'Command'] = 'nop'\n",
    "    steps = []\n",
    "    acc = 0\n",
    "    a = 0\n",
    "    try:\n",
    "        while a not in steps:\n",
    "            steps.append(a)\n",
    "            if df8_2[df8_2.index == a]['Command'].iloc[0] == 'acc':\n",
    "                acc += df8_2[df8_2.index == a]['Value'].iloc[0]\n",
    "                a += 1\n",
    "            elif df8_2[df8_2.index == a]['Command'].iloc[0] == 'nop':\n",
    "                a += 1\n",
    "            else:       \n",
    "                a += df8_2[df8_2.index == a]['Value'].iloc[0]\n",
    "    except IndexError:\n",
    "        pass\n",
    "    df8_2['Command'] = df8['Command']\n",
    "    b += 1\n",
    "print('Answer: ', acc)"
   ]
  },
  {
   "cell_type": "markdown",
   "metadata": {},
   "source": [
    "# --- Day 9: Encoding Error ---\n",
    "## Nested loop statement\n",
    "With your neighbor happily enjoying their video game, you turn your attention to an open data port on the little screen in the seat in front of you.\n",
    "\n",
    "Though the port is non-standard, you manage to connect it to your computer through the clever use of several paperclips. Upon connection, the port outputs a series of numbers (your puzzle input).\n",
    "\n",
    "The data appears to be encrypted with the eXchange-Masking Addition System (XMAS) which, conveniently for you, is an old cypher with an important weakness.\n",
    "\n",
    "XMAS starts by transmitting a preamble of 25 numbers. After that, each number you receive should be the sum of any two of the 25 immediately previous numbers. The two numbers will have different values, and there might be more than one such pair.\n",
    "\n",
    "For example, suppose your preamble consists of the numbers 1 through 25 in a random order. To be valid, the next number must be the sum of two of those numbers:\n",
    "\n",
    "26 would be a valid next number, as it could be 1 plus 25 (or many other pairs, like 2 and 24).<br>\n",
    "49 would be a valid next number, as it is the sum of 24 and 25.<br>\n",
    "100 would not be valid; no two of the previous 25 numbers sum to 100.<br>\n",
    "50 would also not be valid; although 25 appears in the previous 25 numbers, the two numbers in the pair must be different.<br>\n",
    "Suppose the 26th number is 45, and the first number (no longer an option, as it is more than 25 numbers ago) was 20. Now, for the next number to be valid, there needs to be some pair of numbers among 1-19, 21-25, or 45 that add up to it:\n",
    "\n",
    "26 would still be a valid next number, as 1 and 25 are still within the previous 25 numbers.<br>\n",
    "65 would not be valid, as no two of the available numbers sum to it.\n",
    "64 and 66 would both be valid, as they are the result of 19+45 and 21+45 respectively.\n",
    "Here is a larger example which only considers the previous 5 numbers (and has a preamble of length 5):\n",
    "\n",
    "35<br>\n",
    "20<br>\n",
    "15<br>\n",
    "25<br>\n",
    "47<br>\n",
    "40<br>\n",
    "62<br>\n",
    "55<br>\n",
    "65<br>\n",
    "95<br>\n",
    "102<br>\n",
    "117<br>\n",
    "150<br>\n",
    "182<br>\n",
    "127<br>\n",
    "219<br>\n",
    "299<br>\n",
    "277<br>\n",
    "309<br>\n",
    "576<br>\n",
    "In this example, after the 5-number preamble, almost every number is the sum of two of the previous 5 numbers; the only number that does not follow this rule is 127.\n",
    "\n",
    "The first step of attacking the weakness in the XMAS data is to find the first number in the list (after the preamble) which is not the sum of two of the 25 numbers before it. What is the first number that does not have this property?"
   ]
  },
  {
   "cell_type": "code",
   "execution_count": 18,
   "metadata": {},
   "outputs": [],
   "source": [
    "import pandas as pd"
   ]
  },
  {
   "cell_type": "code",
   "execution_count": 39,
   "metadata": {},
   "outputs": [
    {
     "data": {
      "text/html": [
       "<div>\n",
       "<style scoped>\n",
       "    .dataframe tbody tr th:only-of-type {\n",
       "        vertical-align: middle;\n",
       "    }\n",
       "\n",
       "    .dataframe tbody tr th {\n",
       "        vertical-align: top;\n",
       "    }\n",
       "\n",
       "    .dataframe thead th {\n",
       "        text-align: right;\n",
       "    }\n",
       "</style>\n",
       "<table border=\"1\" class=\"dataframe\">\n",
       "  <thead>\n",
       "    <tr style=\"text-align: right;\">\n",
       "      <th></th>\n",
       "      <th>Input</th>\n",
       "    </tr>\n",
       "  </thead>\n",
       "  <tbody>\n",
       "    <tr>\n",
       "      <th>0</th>\n",
       "      <td>30</td>\n",
       "    </tr>\n",
       "    <tr>\n",
       "      <th>1</th>\n",
       "      <td>17</td>\n",
       "    </tr>\n",
       "    <tr>\n",
       "      <th>2</th>\n",
       "      <td>44</td>\n",
       "    </tr>\n",
       "    <tr>\n",
       "      <th>3</th>\n",
       "      <td>5</td>\n",
       "    </tr>\n",
       "    <tr>\n",
       "      <th>4</th>\n",
       "      <td>10</td>\n",
       "    </tr>\n",
       "  </tbody>\n",
       "</table>\n",
       "</div>"
      ],
      "text/plain": [
       "   Input\n",
       "0     30\n",
       "1     17\n",
       "2     44\n",
       "3      5\n",
       "4     10"
      ]
     },
     "execution_count": 39,
     "metadata": {},
     "output_type": "execute_result"
    }
   ],
   "source": [
    "df9 = pd.read_excel('9.xlsx', header = None, names = ['Input'])\n",
    "df9.head()"
   ]
  },
  {
   "cell_type": "code",
   "execution_count": 7,
   "metadata": {},
   "outputs": [
    {
     "name": "stdout",
     "output_type": "stream",
     "text": [
      "Answer:  400480901\n"
     ]
    }
   ],
   "source": [
    "c=0\n",
    "test = True\n",
    "for i in range(25,len(df9)):\n",
    "    test = True\n",
    "    for a in range(i-25, i):\n",
    "        for b in range (1,a-i+26):\n",
    "            c = df9.loc[a].iloc[0] + df9.loc[a-b].iloc[0]\n",
    "            if c == df9.loc[i].iloc[0]:\n",
    "                test = False\n",
    "                break\n",
    "        if c == df9.loc[i].iloc[0]:\n",
    "            break\n",
    "    if test:\n",
    "        print('Answer: ', df9.loc[i].iloc[0])\n",
    "        break"
   ]
  },
  {
   "cell_type": "markdown",
   "metadata": {},
   "source": [
    "# --- Part Two ---\n",
    "The final step in breaking the XMAS encryption relies on the invalid number you just found: you must find a contiguous set of at least two numbers in your list which sum to the invalid number from step 1.\n",
    "\n",
    "Again consider the above example:\n",
    "\n",
    "35<br>\n",
    "20<br>\n",
    "15<br>\n",
    "25<br>\n",
    "47<br>\n",
    "40<br>\n",
    "62<br>\n",
    "55<br>\n",
    "65<br>\n",
    "95<br>\n",
    "102<br>\n",
    "117<br>\n",
    "150<br>\n",
    "182<br>\n",
    "127<br>\n",
    "219<br>\n",
    "299<br>\n",
    "277<br>\n",
    "309<br>\n",
    "576<br>\n",
    "In this list, adding up all of the numbers from 15 through 40 produces the invalid number from step 1, 127. (Of course, the contiguous set of numbers in your actual list might be much longer.)\n",
    "\n",
    "To find the encryption weakness, add together the smallest and largest number in this contiguous range; in this example, these are 15 and 47, producing 62.\n",
    "\n",
    "What is the encryption weakness in your XMAS-encrypted list of numbers?"
   ]
  },
  {
   "cell_type": "code",
   "execution_count": 38,
   "metadata": {},
   "outputs": [
    {
     "name": "stdout",
     "output_type": "stream",
     "text": [
      "Answer: 67587168\n"
     ]
    }
   ],
   "source": [
    "for a in range(2, len(df9)):\n",
    "    b = a\n",
    "    x = 0\n",
    "    mini = float('inf')\n",
    "    maxi = 0\n",
    "    while x < 400480901:\n",
    "        x += df9.loc[b].iloc[0]\n",
    "        mini = min(mini, df9.loc[b].iloc[0])\n",
    "        maxi = max(maxi, df9.loc[b].iloc[0])\n",
    "        b += 1\n",
    "    if x == 400480901:\n",
    "        print('Answer:', mini + maxi)\n",
    "        break"
   ]
  }
 ],
 "metadata": {
  "kernelspec": {
   "display_name": "Python 3",
   "language": "python",
   "name": "python3"
  },
  "language_info": {
   "codemirror_mode": {
    "name": "ipython",
    "version": 3
   },
   "file_extension": ".py",
   "mimetype": "text/x-python",
   "name": "python",
   "nbconvert_exporter": "python",
   "pygments_lexer": "ipython3",
   "version": "3.7.9"
  }
 },
 "nbformat": 4,
 "nbformat_minor": 4
}
